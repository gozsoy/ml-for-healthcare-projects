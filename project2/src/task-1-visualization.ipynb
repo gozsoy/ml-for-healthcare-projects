{
 "cells": [
  {
   "cell_type": "markdown",
   "metadata": {},
   "source": [
    "# Task 1 Normalization Analysis"
   ]
  },
  {
   "cell_type": "code",
   "execution_count": null,
   "metadata": {},
   "outputs": [],
   "source": [
    "import re\n",
    "import numpy as np\n",
    "import matplotlib\n",
    "import matplotlib.pyplot as plt\n",
    "\n",
    "from utils import load_data\n",
    "\n",
    "matplotlib.rcParams['font.family'] = 'STIXGeneral'\n",
    "matplotlib.rcParams['font.size'] = 28"
   ]
  },
  {
   "cell_type": "code",
   "execution_count": null,
   "metadata": {},
   "outputs": [],
   "source": [
    "cfg = {\n",
    "    \"data_dir\": \"../data/PubMed_200k_RCT\",\n",
    "}\n",
    "train_df = load_data(cfg=cfg, split_type='train', cached=True)\n",
    "dev_df = load_data(cfg=cfg, split_type='dev', cached=True)\n",
    "test_df = load_data(cfg=cfg, split_type='test', cached=True)"
   ]
  },
  {
   "cell_type": "code",
   "execution_count": null,
   "metadata": {},
   "outputs": [],
   "source": [
    "matcher_num = re.compile(r\"\\b[0-9]+\\b\")\n",
    "def count_nums_binary(s):\n",
    "    return 1 if matcher_num.match(s) is not None else 0\n",
    "\n",
    "matcher_nct = re.compile(r\"nct[0-9]+\")\n",
    "matcher_isrctn = re.compile(r\"isrctn[0-9]+\")\n",
    "matcher_ntr = re.compile(r\"ntr[0-9]+\")\n",
    "def count_paper_ids_binary(s):\n",
    "    matches = [\n",
    "       matcher_nct.match(s),\n",
    "       matcher_isrctn.match(s),\n",
    "       matcher_ntr.match(s),\n",
    "    ]\n",
    "    return int(any([match is not None for match in matches]))\n",
    "\n",
    "matcher_units = re.compile(r\"[0-9]+(mg|ml|mw|ms|mmhg|min|months|years)\")\n",
    "def count_units_binary(s):\n",
    "    return 1 if matcher_units.match(s) is not None else 0\n",
    "\n",
    "matcher_technical_abbr = re.compile(r\"[0-9]*[a-z]+[0-9]+[a-z]*[0-9]*\")\n",
    "def count_technical_abbr_binary(s):\n",
    "    return 1 if matcher_technical_abbr.match(s) is not None else 0\n",
    "\n",
    "train_df[\"num_count\"] = train_df[\"cleaned_text\"].apply(count_nums_binary)\n",
    "train_df[\"paper_id_count\"] = train_df[\"cleaned_text\"].apply(count_paper_ids_binary)\n",
    "train_df[\"units_count\"] = train_df[\"cleaned_text\"].apply(count_units_binary)\n",
    "train_df[\"technical_abbr_count\"] = train_df[\"cleaned_text\"].apply(count_technical_abbr_binary)"
   ]
  },
  {
   "cell_type": "code",
   "execution_count": null,
   "metadata": {},
   "outputs": [],
   "source": [
    "def by_class_dist(df, column):\n",
    "    absolute_dist = df[[\"label\", column]].groupby(\"label\").sum().to_dict()[column]\n",
    "    total_count = sum(absolute_dist.values())\n",
    "    return {label: absolute_count / total_count for label, absolute_count in absolute_dist.items()}"
   ]
  },
  {
   "cell_type": "code",
   "execution_count": null,
   "metadata": {},
   "outputs": [],
   "source": [
    "fig, ax = plt.subplots(figsize=(10,6))\n",
    "fig.set_facecolor(\"white\")\n",
    "\n",
    "classes_caps = train_df[\"label\"].unique().tolist()\n",
    "classes = [s[0] for s in classes_caps]\n",
    "dist_labels= [\"Baseline\", \"Numbers\", \"Paper IDs\", \"Units\", \"Tech. Abbr.\"][::-1]\n",
    "bar_width = 0.6\n",
    "\n",
    "class_dist = train_df[\"label\"].value_counts(normalize=True).to_dict()\n",
    "num_class_dist = by_class_dist(train_df, \"num_count\")\n",
    "paper_id_class_dist = by_class_dist(train_df, \"paper_id_count\")\n",
    "units_class_dist = by_class_dist(train_df, \"units_count\")\n",
    "technical_abbr_class_dist = by_class_dist(train_df, \"technical_abbr_count\")\n",
    "\n",
    "class_dist_left = 0.0\n",
    "num_class_dist_left = 0.0\n",
    "paper_id_class_dist_left = 0.0\n",
    "units_class_dist_left = 0.0\n",
    "technical_abbr_class_dist_left = 0.0\n",
    "for i in range(len(classes)):\n",
    "    ax.barh(\n",
    "        dist_labels,\n",
    "        [\n",
    "            class_dist[classes_caps[i]],\n",
    "            num_class_dist[classes_caps[i]],\n",
    "            paper_id_class_dist[classes_caps[i]],\n",
    "            units_class_dist[classes_caps[i]],\n",
    "            technical_abbr_class_dist[classes_caps[i]]\n",
    "        ][::-1],\n",
    "        bar_width,\n",
    "        left=[\n",
    "            class_dist_left,\n",
    "            num_class_dist_left,\n",
    "            paper_id_class_dist_left,\n",
    "            units_class_dist_left,\n",
    "            technical_abbr_class_dist_left,\n",
    "        ][::-1],\n",
    "        label=classes[i]\n",
    "    )\n",
    "    class_dist_left += class_dist[classes_caps[i]]\n",
    "    num_class_dist_left += num_class_dist[classes_caps[i]]\n",
    "    paper_id_class_dist_left += paper_id_class_dist[classes_caps[i]]\n",
    "    units_class_dist_left += units_class_dist[classes_caps[i]]\n",
    "    technical_abbr_class_dist_left += technical_abbr_class_dist[classes_caps[i]]\n",
    "\n",
    "ax.set_xlabel('Relative Document Frequency')\n",
    "ax.set_xticks(np.linspace(0.0, 1.0, 11).tolist()[::2])\n",
    "ax.set_yticklabels(dist_labels, rotation=45)\n",
    "ax.set_title('Token Group Frequencies')\n",
    "ax.legend(loc=\"lower right\", ncol=len(classes), bbox_to_anchor=(-0.15,-0.45,1.2,0.2), mode=\"expand\")\n",
    "\n",
    "plt.show()"
   ]
  }
 ],
 "metadata": {
  "interpreter": {
   "hash": "bd9c036d4e32b291a1011e64627195218686269330a618c7c86ee219d98cf2ef"
  },
  "kernelspec": {
   "display_name": "Python 3.9.0 ('ml4hc_project2')",
   "language": "python",
   "name": "python3"
  },
  "language_info": {
   "codemirror_mode": {
    "name": "ipython",
    "version": 3
   },
   "file_extension": ".py",
   "mimetype": "text/x-python",
   "name": "python",
   "nbconvert_exporter": "python",
   "pygments_lexer": "ipython3",
   "version": "3.9.0"
  },
  "orig_nbformat": 4
 },
 "nbformat": 4,
 "nbformat_minor": 2
}
